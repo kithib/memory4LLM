{
 "cells": [
  {
   "cell_type": "code",
   "execution_count": 13,
   "metadata": {},
   "outputs": [
    {
     "name": "stderr",
     "output_type": "stream",
     "text": [
      "The tokenizer class you load from this checkpoint is not the same type as the class this function is called from. It may result in unexpected tokenization. \n",
      "The tokenizer class you load from this checkpoint is 'RoFormerTokenizer'. \n",
      "The class this function is called from is 'BertTokenizer'.\n",
      "The tokenizer class you load from this checkpoint is not the same type as the class this function is called from. It may result in unexpected tokenization. \n",
      "The tokenizer class you load from this checkpoint is 'RoFormerTokenizer'. \n",
      "The class this function is called from is 'BertTokenizerFast'.\n",
      "Some weights of the model checkpoint at /home/kit/clustering4server_simple/resource/roformer-sim-small-chinese were not used when initializing RoFormerModel: ['pooler.dense.weight', 'pooler.dense.bias']\n",
      "- This IS expected if you are initializing RoFormerModel from the checkpoint of a model trained on another task or with another architecture (e.g. initializing a BertForSequenceClassification model from a BertForPreTraining model).\n",
      "- This IS NOT expected if you are initializing RoFormerModel from the checkpoint of a model that you expect to be exactly identical (initializing a BertForSequenceClassification model from a BertForSequenceClassification model).\n",
      "11/29/2023 11:36:08 - WARNING - bert4vec.bert4vec - Fail to import faiss. If you want to use faiss, install faiss through PyPI. Now the program continues with brute force search.\n",
      "11/29/2023 11:36:08 - INFO - bert4vec.bert4vec - Encoding embeddings for sentences\n",
      "11/29/2023 11:36:08 - INFO - bert4vec.bert4vec - Building index\n"
     ]
    },
    {
     "name": "stdout",
     "output_type": "stream",
     "text": [
      "\n",
      "早上第一次见面 \n",
      "User:你喜欢旅游吗？   \n",
      "agent:我很喜欢旅游。我认为旅行可以让我放松身心，并学习到很多不同的文化。\n",
      "User:你曾经去过哪些地方旅行？   \n",
      "agent:我曾经去过欧洲和亚洲的一些国家。我很喜欢意大利的威尼斯，那里真的很美。\n",
      "User:听起来很不错！你最喜欢的旅行经历是什么？ \n",
      "agent:我的一次旅行经历是在中国的西藏。那里的自然风光和人文景观令人难以忘怀。\n",
      "\n",
      "next_time:\n",
      "user:我突然忘记你曾经去过哪些地方旅行过了，你能再说一遍吗？\n",
      "我曾经去过欧洲和亚洲的一些国家。我很喜欢意大利的威尼斯，那里真的很美。\n",
      "和一个新的user碰面：\n",
      "user:说一个你印象最深刻的旅游经历\n",
      "我的一次旅行经历是在中国的西藏。那里的自然风光和人文景观令人难以忘怀。\n"
     ]
    }
   ],
   "source": [
    "from bert4vec import Bert4Vec\n",
    "\n",
    "model_name_or_path = '/home/kit/clustering4server_simple/resource/roformer-sim-small-chinese'\n",
    "model = Bert4Vec(model_name_or_path=model_name_or_path)\n",
    "# threshold为最低相似度阈值，top_k为查找的近邻个数\n",
    "first_meet =\"\"\"\n",
    "早上第一次见面 \n",
    "User:你喜欢旅游吗？   \n",
    "agent:我很喜欢旅游。我认为旅行可以让我放松身心，并学习到很多不同的文化。\n",
    "User:你曾经去过哪些地方旅行？   \n",
    "agent:我曾经去过欧洲和亚洲的一些国家。我很喜欢意大利的威尼斯，那里真的很美。\n",
    "User:听起来很不错！你最喜欢的旅行经历是什么？ \n",
    "agent:我的一次旅行经历是在中国的西藏。那里的自然风光和人文景观令人难以忘怀。\n",
    "\"\"\"\n",
    "#记录对话内容为记忆\n",
    "key_list = [\"你喜欢旅游吗？\",\"你曾经去过哪些地方旅行？\",\"听起来很不错！你最喜欢的旅行经历是什么？\"]\n",
    "value_list = [\"我很喜欢旅游。我认为旅行可以让我放松身心，并学习到很多不同的文化。\",\"我曾经去过欧洲和亚洲的一些国家。我很喜欢意大利的威尼斯，那里真的很美。\",\"我的一次旅行经历是在中国的西藏。那里的自然风光和人文景观令人难以忘怀。\"]\n",
    "#建立索引\n",
    "model.build_index(key_list, ann_search=True, gpu_index=False, n_search=32)\n",
    "next_meet_question = \"我突然忘记你曾经去过哪些地方旅行过了，你能再说一遍吗？\"\n",
    "new_meet_question = \"说一个你印象最深刻的旅游经历\"\n",
    "results = model.search(queries=[next_meet_question,new_meet_question], threshold=0.6, top_k=1)                      \n",
    "print(first_meet)\n",
    "print(\"next_time:\")\n",
    "print(\"user:我突然忘记你曾经去过哪些地方旅行过了，你能再说一遍吗？\")\n",
    "print(value_list[key_list.index(results[0][0][0])])\n",
    "print(\"和一个新的user碰面：\")\n",
    "print(\"user:说一个你印象最深刻的旅游经历\")\n",
    "print(value_list[key_list.index(results[1][0][0])])"
   ]
  }
 ],
 "metadata": {
  "kernelspec": {
   "display_name": "agent",
   "language": "python",
   "name": "python3"
  },
  "language_info": {
   "codemirror_mode": {
    "name": "ipython",
    "version": 3
   },
   "file_extension": ".py",
   "mimetype": "text/x-python",
   "name": "python",
   "nbconvert_exporter": "python",
   "pygments_lexer": "ipython3",
   "version": "3.10.13"
  },
  "orig_nbformat": 4
 },
 "nbformat": 4,
 "nbformat_minor": 2
}
